{
 "cells": [
  {
   "cell_type": "code",
   "execution_count": null,
   "id": "7662326f-3440-4648-a9a2-1eddb431f8e6",
   "metadata": {},
   "outputs": [],
   "source": [
    "import numpy as np\n",
    "from UR5eEnv import UR5eEnv\n",
    "from gym.spaces import Box\n",
    "\n",
    "env = UR5eEnv(render_mode='human')\n",
    "action_space = Box(low=-10000, high=10000, shape=(7,), dtype=np.float64)\n",
    "\n",
    "for _ in range(1000):\n",
    "    random_action = action_space.sample()\n",
    "    env.step(random_action)"
   ]
  },
  {
   "cell_type": "code",
   "execution_count": null,
   "id": "6376d8b5-7453-4156-a5f4-228f6b57ef2a",
   "metadata": {},
   "outputs": [],
   "source": [
    "import mujoco\n",
    "import mujoco_viewer\n",
    "\n",
    "model = mujoco.MjModel.from_xml_path('mujoco_menagerie/universal_robots_ur5e/scene.xml')\n",
    "data = mujoco.MjData(model)\n",
    "# create the viewer object\n",
    "viewer = mujoco_viewer.MujocoViewer(model, data)\n",
    "# simulate and render\n",
    "for _ in range(10000):\n",
    "    if viewer.is_alive:\n",
    "        mujoco.mj_step(model, data)\n",
    "        viewer.render()\n",
    "    else:\n",
    "        break\n",
    "\n",
    "# close\n",
    "viewer.close()"
   ]
  }
 ],
 "metadata": {
  "kernelspec": {
   "display_name": "mujoco",
   "language": "python",
   "name": "mujoco"
  },
  "language_info": {
   "codemirror_mode": {
    "name": "ipython",
    "version": 3
   },
   "file_extension": ".py",
   "mimetype": "text/x-python",
   "name": "python",
   "nbconvert_exporter": "python",
   "pygments_lexer": "ipython3",
   "version": "3.10.6"
  }
 },
 "nbformat": 4,
 "nbformat_minor": 5
}
