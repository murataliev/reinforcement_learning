{
 "cells": [
  {
   "cell_type": "code",
   "execution_count": 1,
   "id": "4b45adc5-34e1-41f3-ab56-a88ebecadde7",
   "metadata": {},
   "outputs": [
    {
     "name": "stderr",
     "output_type": "stream",
     "text": [
      "/home/akbar/miniconda/envs/mujoco/lib/python3.10/site-packages/tqdm/auto.py:22: TqdmWarning: IProgress not found. Please update jupyter and ipywidgets. See https://ipywidgets.readthedocs.io/en/stable/user_install.html\n",
      "  from .autonotebook import tqdm as notebook_tqdm\n"
     ]
    },
    {
     "name": "stdout",
     "output_type": "stream",
     "text": [
      "Using cpu device\n",
      "Wrapping the env with a `Monitor` wrapper\n",
      "Wrapping the env in a DummyVecEnv.\n",
      "----------------------------------\n",
      "| rollout/           |           |\n",
      "|    ep_len_mean     | 200       |\n",
      "|    ep_rew_mean     | -1.38e+03 |\n",
      "| time/              |           |\n",
      "|    episodes        | 5         |\n",
      "|    fps             | 14        |\n",
      "|    time_elapsed    | 69        |\n",
      "|    total_timesteps | 1000      |\n",
      "| train/             |           |\n",
      "|    actor_loss      | 25.7      |\n",
      "|    critic_loss     | 0.202     |\n",
      "|    ent_coef        | 0.768     |\n",
      "|    ent_coef_loss   | -0.411    |\n",
      "|    learning_rate   | 0.0003    |\n",
      "|    n_updates       | 899       |\n",
      "----------------------------------\n",
      "----------------------------------\n",
      "| rollout/           |           |\n",
      "|    ep_len_mean     | 200       |\n",
      "|    ep_rew_mean     | -1.47e+03 |\n",
      "| time/              |           |\n",
      "|    episodes        | 10        |\n",
      "|    fps             | 13        |\n",
      "|    time_elapsed    | 147       |\n",
      "|    total_timesteps | 2000      |\n",
      "| train/             |           |\n",
      "|    actor_loss      | 59        |\n",
      "|    critic_loss     | 0.254     |\n",
      "|    ent_coef        | 0.581     |\n",
      "|    ent_coef_loss   | -0.666    |\n",
      "|    learning_rate   | 0.0003    |\n",
      "|    n_updates       | 1899      |\n",
      "----------------------------------\n",
      "----------------------------------\n",
      "| rollout/           |           |\n",
      "|    ep_len_mean     | 200       |\n",
      "|    ep_rew_mean     | -1.28e+03 |\n",
      "| time/              |           |\n",
      "|    episodes        | 15        |\n",
      "|    fps             | 13        |\n",
      "|    time_elapsed    | 224       |\n",
      "|    total_timesteps | 3000      |\n",
      "| train/             |           |\n",
      "|    actor_loss      | 76.3      |\n",
      "|    critic_loss     | 0.417     |\n",
      "|    ent_coef        | 0.468     |\n",
      "|    ent_coef_loss   | -0.394    |\n",
      "|    learning_rate   | 0.0003    |\n",
      "|    n_updates       | 2899      |\n",
      "----------------------------------\n",
      "----------------------------------\n",
      "| rollout/           |           |\n",
      "|    ep_len_mean     | 200       |\n",
      "|    ep_rew_mean     | -1.01e+03 |\n",
      "| time/              |           |\n",
      "|    episodes        | 20        |\n",
      "|    fps             | 13        |\n",
      "|    time_elapsed    | 301       |\n",
      "|    total_timesteps | 4000      |\n",
      "| train/             |           |\n",
      "|    actor_loss      | 83.5      |\n",
      "|    critic_loss     | 0.442     |\n",
      "|    ent_coef        | 0.393     |\n",
      "|    ent_coef_loss   | -0.454    |\n",
      "|    learning_rate   | 0.0003    |\n",
      "|    n_updates       | 3899      |\n",
      "----------------------------------\n"
     ]
    },
    {
     "data": {
      "text/plain": [
       "<stable_baselines3.sac.sac.SAC at 0x7f1b4afc7d90>"
      ]
     },
     "execution_count": 1,
     "metadata": {},
     "output_type": "execute_result"
    }
   ],
   "source": [
    "import gym\n",
    "import numpy as np\n",
    "\n",
    "from stable_baselines3.sac.policies import MlpPolicy\n",
    "from stable_baselines3 import SAC\n",
    "\n",
    "env = gym.make('Pendulum-v1')\n",
    "\n",
    "model = SAC(MlpPolicy, env, verbose=1)\n",
    "model.learn(total_timesteps=4000, log_interval=5)"
   ]
  },
  {
   "cell_type": "code",
   "execution_count": 2,
   "id": "f78fa5e1-7536-4f0e-bc77-b42f09eee04b",
   "metadata": {},
   "outputs": [],
   "source": [
    "model.save(\"sac_pendulum\")\n",
    "model = SAC.load(\"sac_pendulum\")"
   ]
  },
  {
   "cell_type": "code",
   "execution_count": null,
   "id": "17bbee89-7981-4218-b3f2-b994f69f790e",
   "metadata": {},
   "outputs": [],
   "source": [
    "obs = env.reset()\n",
    "\n",
    "while True:\n",
    "    action, _states = model.predict(obs)\n",
    "    obs, rewards, dones, info = env.step(action)\n",
    "    env.render()"
   ]
  }
 ],
 "metadata": {
  "kernelspec": {
   "display_name": "mujoco",
   "language": "python",
   "name": "mujoco"
  },
  "language_info": {
   "codemirror_mode": {
    "name": "ipython",
    "version": 3
   },
   "file_extension": ".py",
   "mimetype": "text/x-python",
   "name": "python",
   "nbconvert_exporter": "python",
   "pygments_lexer": "ipython3",
   "version": "3.10.6"
  }
 },
 "nbformat": 4,
 "nbformat_minor": 5
}
