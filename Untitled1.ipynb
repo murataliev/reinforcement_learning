{
 "cells": [
  {
   "cell_type": "code",
   "execution_count": 3,
   "id": "08147c6c-04c0-45e4-a732-23f25b48ea27",
   "metadata": {},
   "outputs": [
    {
     "ename": "FatalError",
     "evalue": "gladLoadGL error",
     "output_type": "error",
     "traceback": [
      "\u001b[0;31m---------------------------------------------------------------------------\u001b[0m",
      "\u001b[0;31mFatalError\u001b[0m                                Traceback (most recent call last)",
      "Input \u001b[0;32mIn [3]\u001b[0m, in \u001b[0;36m<cell line: 48>\u001b[0;34m()\u001b[0m\n\u001b[1;32m     45\u001b[0m     mj\u001b[38;5;241m.\u001b[39mglfw\u001b[38;5;241m.\u001b[39mglfw\u001b[38;5;241m.\u001b[39mterminate()\n\u001b[1;32m     48\u001b[0m \u001b[38;5;28;01mif\u001b[39;00m \u001b[38;5;18m__name__\u001b[39m \u001b[38;5;241m==\u001b[39m \u001b[38;5;124m\"\u001b[39m\u001b[38;5;124m__main__\u001b[39m\u001b[38;5;124m\"\u001b[39m:\n\u001b[0;32m---> 49\u001b[0m     \u001b[43mmain\u001b[49m\u001b[43m(\u001b[49m\u001b[43m)\u001b[49m\n",
      "Input \u001b[0;32mIn [3]\u001b[0m, in \u001b[0;36mmain\u001b[0;34m()\u001b[0m\n\u001b[1;32m     23\u001b[0m data \u001b[38;5;241m=\u001b[39m mj\u001b[38;5;241m.\u001b[39mMjData(model)\n\u001b[1;32m     25\u001b[0m scene \u001b[38;5;241m=\u001b[39m mj\u001b[38;5;241m.\u001b[39mMjvScene(model, maxgeom\u001b[38;5;241m=\u001b[39m\u001b[38;5;241m10000\u001b[39m)\n\u001b[0;32m---> 26\u001b[0m context \u001b[38;5;241m=\u001b[39m \u001b[43mmj\u001b[49m\u001b[38;5;241;43m.\u001b[39;49m\u001b[43mMjrContext\u001b[49m\u001b[43m(\u001b[49m\u001b[43mmodel\u001b[49m\u001b[43m,\u001b[49m\u001b[43m \u001b[49m\u001b[43mmj\u001b[49m\u001b[38;5;241;43m.\u001b[39;49m\u001b[43mmjtFontScale\u001b[49m\u001b[38;5;241;43m.\u001b[39;49m\u001b[43mmjFONTSCALE_150\u001b[49m\u001b[38;5;241;43m.\u001b[39;49m\u001b[43mvalue\u001b[49m\u001b[43m)\u001b[49m\n\u001b[1;32m     28\u001b[0m \u001b[38;5;28;01mwhile\u001b[39;00m \u001b[38;5;129;01mnot\u001b[39;00m mj\u001b[38;5;241m.\u001b[39mglfw\u001b[38;5;241m.\u001b[39mglfw\u001b[38;5;241m.\u001b[39mwindow_should_close(window):\n\u001b[1;32m     29\u001b[0m     simstart \u001b[38;5;241m=\u001b[39m data\u001b[38;5;241m.\u001b[39mtime\n",
      "\u001b[0;31mFatalError\u001b[0m: gladLoadGL error"
     ]
    }
   ],
   "source": [
    "import mujoco as mj\n",
    "\n",
    "\n",
    "def main():\n",
    "    max_width = 100\n",
    "    max_height = 100\n",
    "    #ctx = mj.GLContext(max_width, max_height)\n",
    "    #ctx.make_current()\n",
    "\n",
    "    cam = mj.MjvCamera()\n",
    "    opt = mj.MjvOption()\n",
    "\n",
    "    mj.glfw.glfw.init()\n",
    "    window = mj.glfw.glfw.create_window(1200, 900, \"Demo\", None, None)\n",
    "    mj.glfw.glfw.make_context_current(window)\n",
    "    mj.glfw.glfw.swap_interval(1)\n",
    "\n",
    "    mj.mjv_defaultCamera(cam)\n",
    "    mj.mjv_defaultOption(opt)\n",
    "\n",
    "    xml_path = \"exampel.xml\"\n",
    "    model = mj.MjModel.from_xml_path(xml_path)\n",
    "    data = mj.MjData(model)\n",
    "\n",
    "    scene = mj.MjvScene(model, maxgeom=10000)\n",
    "    context = mj.MjrContext(model, mj.mjtFontScale.mjFONTSCALE_150.value)\n",
    "\n",
    "    while not mj.glfw.glfw.window_should_close(window):\n",
    "        simstart = data.time\n",
    "\n",
    "        while (data.time - simstart < 1.0/60.0):\n",
    "            mj.mj_step(model, data)\n",
    "\n",
    "        #viewport = mj.MjrRect(0, 0, 0, 0)\n",
    "        #mj.glfw.glfw.get_framebuffer_size(window)\n",
    "        viewport = mj.MjrRect(0, 0, 1200, 900)\n",
    "\n",
    "        #mj.mjv_updateScene(model, data, opt, None, cam, 0, scene)\n",
    "        mj.mjv_updateScene(model, data, opt, None, cam, mj.mjtCatBit.mjCAT_ALL.value, scene)\n",
    "        mj.mjr_render(viewport, scene, context)\n",
    "\n",
    "        mj.glfw.glfw.swap_buffers(window)\n",
    "        mj.glfw.glfw.poll_events()\n",
    "\n",
    "    mj.glfw.glfw.terminate()\n",
    "\n",
    "\n",
    "if __name__ == \"__main__\":\n",
    "    main()"
   ]
  },
  {
   "cell_type": "code",
   "execution_count": null,
   "id": "8a02f75f-b710-414e-a320-29fc138ca682",
   "metadata": {},
   "outputs": [],
   "source": []
  }
 ],
 "metadata": {
  "kernelspec": {
   "display_name": "mujoco",
   "language": "python",
   "name": "mujoco"
  },
  "language_info": {
   "codemirror_mode": {
    "name": "ipython",
    "version": 3
   },
   "file_extension": ".py",
   "mimetype": "text/x-python",
   "name": "python",
   "nbconvert_exporter": "python",
   "pygments_lexer": "ipython3",
   "version": "3.10.6"
  }
 },
 "nbformat": 4,
 "nbformat_minor": 5
}
