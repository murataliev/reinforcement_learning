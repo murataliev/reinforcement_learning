{
 "cells": [
  {
   "cell_type": "code",
   "execution_count": null,
   "id": "7662326f-3440-4648-a9a2-1eddb431f8e6",
   "metadata": {},
   "outputs": [],
   "source": [
    "import numpy as np\n",
    "from UR5eEnv import UR5eEnv\n",
    "from gym.spaces import Box\n",
    "\n",
    "env = UR5eEnv(render_mode='human')\n",
    "action_space = Box(low=-10000, high=10000, shape=(7,), dtype=np.float64)\n",
    "\n",
    "for _ in range(1000):\n",
    "    random_action = action_space.sample()\n",
    "    env.step(random_action)"
   ]
  }
 ],
 "metadata": {
  "kernelspec": {
   "display_name": "mujoco",
   "language": "python",
   "name": "mujoco"
  },
  "language_info": {
   "codemirror_mode": {
    "name": "ipython",
    "version": 3
   },
   "file_extension": ".py",
   "mimetype": "text/x-python",
   "name": "python",
   "nbconvert_exporter": "python",
   "pygments_lexer": "ipython3",
   "version": "3.10.6"
  }
 },
 "nbformat": 4,
 "nbformat_minor": 5
}
